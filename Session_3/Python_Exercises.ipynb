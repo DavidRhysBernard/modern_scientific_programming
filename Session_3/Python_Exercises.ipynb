{
 "cells": [
  {
   "cell_type": "markdown",
   "metadata": {},
   "source": [
    "# Basic Python Excercises\n",
    "\n",
    "The goal of this tutorial is to experiment with the basic Python types.\n",
    "Before trying to solve the exercises it is suggested to read and run first the notebook [Introduction to Python](../Session_2/introduction_to_python.ipynb)"
   ]
  },
  {
   "cell_type": "markdown",
   "metadata": {},
   "source": [
    "## Basic types"
   ]
  },
  {
   "cell_type": "markdown",
   "metadata": {},
   "source": [
    "### Exercise 1\n",
    "\n",
    "Decode the following sentence by:\n",
    "- replacing each letter by its position in the alphabet\n",
    "- add 13 to each number, modulo 26.\n",
    "- replace each number by the corresponding letter"
   ]
  },
  {
   "cell_type": "code",
   "execution_count": 2,
   "metadata": {},
   "outputs": [],
   "source": [
    "txt = \"Abj lbh pna zbir gb gur frpbaq rkrepvfr.\""
   ]
  },
  {
   "cell_type": "markdown",
   "metadata": {
    "slideshow": {
     "slide_type": "subslide"
    }
   },
   "source": [
    "### Exercise 2\n",
    "\n",
    "- Write a function to check whether a number is prime\n",
    "- List all prime numbers from 1 to 1000 as a tuple `t`\n",
    "\n",
    "Veryfy checksum: `hash(t) == 485696759010151909`\n",
    "\n",
    "- Write a function which does it for any upper bound (n)"
   ]
  },
  {
   "cell_type": "markdown",
   "metadata": {},
   "source": [
    "### Exercise 3:\n",
    "    \n",
    "- Write a Python function to remove duplicate characters of a given string.\n",
    "\n",
    "- Write a Python function that accepts a comma separated sequence of words as input and prints the unique words in sorted form (alphanumerically)."
   ]
  },
  {
   "cell_type": "code",
   "execution_count": null,
   "metadata": {},
   "outputs": [],
   "source": [
    "txt = \"red, white, black, red, green, black\""
   ]
  },
  {
   "cell_type": "markdown",
   "metadata": {},
   "source": [
    "### Exercise 4:\n",
    "\n",
    "- Download a dictionary of words.\n",
    "- Write a function which checks whether two words are anagrams of each other.\n",
    "- Write a function which gives the list of all anagrams of a given word.\n",
    "    "
   ]
  },
  {
   "cell_type": "markdown",
   "metadata": {},
   "source": [
    "## Exercise 5:\n",
    "   \n",
    "- check up the basics about json format\n",
    "- read file students.md (open)\n",
    "- extract data and convert it into a list of dictionaries\n",
    "- save the result as a json file\n",
    "   "
   ]
  },
  {
   "cell_type": "code",
   "execution_count": null,
   "metadata": {},
   "outputs": [],
   "source": []
  }
 ],
 "metadata": {
  "kernelspec": {
   "display_name": "Python 3",
   "language": "python",
   "name": "python3"
  },
  "language_info": {
   "codemirror_mode": {
    "name": "ipython",
    "version": 3
   },
   "file_extension": ".py",
   "mimetype": "text/x-python",
   "name": "python",
   "nbconvert_exporter": "python",
   "pygments_lexer": "ipython3",
   "version": "3.7.2"
  }
 },
 "nbformat": 4,
 "nbformat_minor": 2
}
