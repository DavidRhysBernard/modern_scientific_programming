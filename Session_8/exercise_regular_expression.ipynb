{
 "cells": [
  {
   "cell_type": "markdown",
   "metadata": {},
   "source": [
    "# Basic exercises"
   ]
  },
  {
   "cell_type": "markdown",
   "metadata": {},
   "source": [
    "`#1` Write a Python program that matches a string that has an a followed by zero or more b's."
   ]
  },
  {
   "cell_type": "code",
   "execution_count": null,
   "metadata": {},
   "outputs": [],
   "source": []
  },
  {
   "cell_type": "markdown",
   "metadata": {},
   "source": [
    "`#2` Write a Python program that matches a string that has an a followed by one or more b's."
   ]
  },
  {
   "cell_type": "code",
   "execution_count": null,
   "metadata": {},
   "outputs": [],
   "source": []
  },
  {
   "cell_type": "markdown",
   "metadata": {},
   "source": [
    "`#3` Write a Python program that matches a string that has an a followed by zero or one 'b'."
   ]
  },
  {
   "cell_type": "code",
   "execution_count": null,
   "metadata": {},
   "outputs": [],
   "source": []
  },
  {
   "cell_type": "markdown",
   "metadata": {},
   "source": [
    "`#4` Write a Python program that matches a string that has an a followed by three 'b'."
   ]
  },
  {
   "cell_type": "code",
   "execution_count": null,
   "metadata": {},
   "outputs": [],
   "source": []
  },
  {
   "cell_type": "markdown",
   "metadata": {},
   "source": [
    "`#5` Write a Python program that matches a string that has an a followed by two to three 'b'."
   ]
  },
  {
   "cell_type": "code",
   "execution_count": null,
   "metadata": {},
   "outputs": [],
   "source": []
  },
  {
   "cell_type": "markdown",
   "metadata": {},
   "source": [
    "`#6` Write a Python program to find sequences of lowercase letters joined with a underscore."
   ]
  },
  {
   "cell_type": "code",
   "execution_count": null,
   "metadata": {},
   "outputs": [],
   "source": []
  },
  {
   "cell_type": "markdown",
   "metadata": {},
   "source": [
    "`#7` Write a Python program to find sequences of one upper case letter followed by lower case letters. "
   ]
  },
  {
   "cell_type": "code",
   "execution_count": null,
   "metadata": {},
   "outputs": [],
   "source": []
  },
  {
   "cell_type": "markdown",
   "metadata": {},
   "source": [
    "`#8` Write a Python program that matches a string that has an 'a' followed by anything, ending in 'b'. "
   ]
  },
  {
   "cell_type": "code",
   "execution_count": null,
   "metadata": {},
   "outputs": [],
   "source": []
  },
  {
   "cell_type": "markdown",
   "metadata": {},
   "source": [
    "`#9` Write a Python progra to search some literals strings in a string.\n",
    "\n",
    "Sample text : 'The quick brown fox jumps over the lazy dog.'\n",
    "\n",
    "Searched words : 'fox', 'dog', 'horse'"
   ]
  },
  {
   "cell_type": "code",
   "execution_count": null,
   "metadata": {},
   "outputs": [],
   "source": []
  },
  {
   "cell_type": "markdown",
   "metadata": {},
   "source": [
    "## Parsing strings from citec\n",
    "\n",
    "In the citec database, each paper is identified by a unique string as in:\n",
    "\n",
    "`RePEc:eee:matcom:v:22:y:1980:i:2:p:141-150`\n",
    "\n",
    "This string contains many informations about publishing context, but are sometimes incomplete (see following extract)."
   ]
  },
  {
   "cell_type": "code",
   "execution_count": null,
   "metadata": {},
   "outputs": [],
   "source": [
    "txt = \"\"\"RePEc:aah:aarhec:2000-6\n",
    "RePEc:aah:aarhec:2000-8\n",
    "RePEc:aah:aarhec:2000-9\n",
    "RePEc:aah:aarhec:2000-10\n",
    "RePEc:aah:aarhec:2000-11\n",
    "RePEc:aah:aarhec:2000-12\n",
    "RePEc:aah:aarhec:2000-13\n",
    "RePEc:aah:aarhec:2000-14\n",
    "RePEc:eee:matcom:v:22:y:1980:i:2:p:141-150\n",
    "RePEc:aea:aecrev:v:92:y:2002:i:1:p:220-239\n",
    "RePEc:eee:proeco:v:71:y:2001:i:1-3:p:195-204\n",
    "RePEc:aea:aecrev:v:92:y:2002:i:1:p:16-26\n",
    "RePEc:aea:aecrev:v:92:y:2002:i:1:p:71-92\n",
    "RePEc:aea:aecrev:v:92:y:2002:i:1:p:93-119\n",
    "RePEc:aea:aecrev:v:92:y:2002:i:1:p:120-142\n",
    "RePEc:aea:aecrev:v:92:y:2002:i:1:p:181-197\n",
    "RePEc:aea:aecrev:v:92:y:2002:i:1:p:198-219\n",
    "RePEc:aea:aecrev:v:92:y:2002:i:1:p:220-239\n",
    "RePEc:aea:aecrev:v:92:y:2002:i:1:p:240-258\n",
    "RePEc:aea:aecrev:v:92:y:2002:i:1:p:259-269\n",
    "RePEc:aea:aecrev:v:92:y:2002:i:1:p:270-279\n",
    "RePEc:aea:aecrev:v:92:y:2002:i:1:p:280-294\n",
    "RePEc:aea:aecrev:v:92:y:2002:i:1:p:295-306\n",
    "\"\"\""
   ]
  },
  {
   "cell_type": "markdown",
   "metadata": {},
   "source": [
    "`#10` Using one regular expression, create a list with only papers published in aarhec and proeco."
   ]
  },
  {
   "cell_type": "code",
   "execution_count": null,
   "metadata": {},
   "outputs": [],
   "source": []
  },
  {
   "cell_type": "markdown",
   "metadata": {},
   "source": [
    "`#11` Using one regular expression, create a list  with information about publisher and publishing date."
   ]
  },
  {
   "cell_type": "code",
   "execution_count": null,
   "metadata": {},
   "outputs": [],
   "source": []
  }
 ],
 "metadata": {
  "kernelspec": {
   "display_name": "Python 3",
   "language": "python",
   "name": "python3"
  },
  "language_info": {
   "codemirror_mode": {
    "name": "ipython",
    "version": 3
   },
   "file_extension": ".py",
   "mimetype": "text/x-python",
   "name": "python",
   "nbconvert_exporter": "python",
   "pygments_lexer": "ipython3",
   "version": "3.6.8"
  }
 },
 "nbformat": 4,
 "nbformat_minor": 2
}
