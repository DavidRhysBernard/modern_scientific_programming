{
 "cells": [
  {
   "cell_type": "markdown",
   "metadata": {},
   "source": [
    "Requirements: for this tutorial, you need\n",
    "    - internet access\n",
    "    - google chrome"
   ]
  },
  {
   "cell_type": "markdown",
   "metadata": {},
   "source": [
    "Start an ephemeral virtual machine using mybinder: (link)."
   ]
  },
  {
   "cell_type": "markdown",
   "metadata": {},
   "source": [
    "## Linux command-line"
   ]
  },
  {
   "cell_type": "markdown",
   "metadata": {},
   "source": [
    "ls\n",
    "cd\n",
    "mv\n",
    "pwd\n",
    "man\n",
    "mkdir\n",
    "rmdir\n",
    "\n",
    "touch\n",
    "rm\n",
    "locate\n",
    "\n",
    "grep\n",
    "find\n",
    "\n",
    "clear\n"
   ]
  },
  {
   "cell_type": "markdown",
   "metadata": {},
   "source": [
    "general principles: \n",
    "- path with slash `/` (anteslash is escape character)\n",
    "- ~ expanded to home directory\n",
    "\n",
    "- wildcards\n",
    "- one letter options after `-` (with optional `=value`)\n",
    "- keyword arguments after `--` (with optional `=value`)\n",
    "- pipes with |\n",
    "- output to file with >"
   ]
  },
  {
   "cell_type": "markdown",
   "metadata": {},
   "source": [
    "## Code versioning: Git"
   ]
  },
  {
   "cell_type": "markdown",
   "metadata": {},
   "source": [
    "If you don't have one, you need to create yourself a github identifier."
   ]
  },
  {
   "cell_type": "markdown",
   "metadata": {},
   "source": [
    "### Version your code"
   ]
  },
  {
   "cell_type": "markdown",
   "metadata": {},
   "source": [
    "- `cd ~`\n",
    "- create a repository `my_paper`\n",
    "- clone it\n",
    "- write a paper `paper.md` (or in a hurry, create a mock file)\n",
    "- git status\n",
    "- add the file to versioning `git add paper.md`\n",
    "- make some modification\n",
    "- git status\n",
    "- commit the result\n"
   ]
  },
  {
   "cell_type": "markdown",
   "metadata": {},
   "source": [
    "### Collaborate"
   ]
  },
  {
   "cell_type": "markdown",
   "metadata": {},
   "source": [
    "Remember to type `git status` often."
   ]
  },
  {
   "cell_type": "markdown",
   "metadata": {},
   "source": [
    "From the command line:\n",
    "\n",
    "    - clone the course material\n",
    "    - switch branch (check branch x.)\n",
    "    - pull new modifications (check attendance branch)"
   ]
  },
  {
   "cell_type": "markdown",
   "metadata": {},
   "source": [
    "Fork the project on github as $user/my_course\n",
    "\n",
    "Add remote to local repository"
   ]
  },
  {
   "cell_type": "raw",
   "metadata": {},
   "source": [
    "Create branch `user_info`\n",
    "\n",
    "Checkout branch `user_info`\n",
    "\n",
    "Create a file Students/$user.md inside repository using JupyterLab\n",
    "\n",
    "Add the following information:\n",
    "\n",
    "- Name\n",
    "- Surname\n",
    "- Webpage\n",
    "- PhD year (e.g 2017)\n",
    "- Research interests (keywords)\n",
    "\n",
    "- Special interest in programming\n",
    "- Expectations about the course\n",
    "\n",
    "Commit the result"
   ]
  },
  {
   "cell_type": "markdown",
   "metadata": {},
   "source": [
    "Add email. Commit the result."
   ]
  },
  {
   "cell_type": "markdown",
   "metadata": {},
   "source": [
    "Create a pull request."
   ]
  },
  {
   "cell_type": "markdown",
   "metadata": {},
   "source": [
    "Switch back to `master`. Pull modifications."
   ]
  },
  {
   "cell_type": "markdown",
   "metadata": {},
   "source": [
    "Checkout user_info. PUll modifications from master."
   ]
  },
  {
   "cell_type": "markdown",
   "metadata": {},
   "source": [
    "Add the same information to the `Students/$albop.json` file (in json format)."
   ]
  },
  {
   "cell_type": "markdown",
   "metadata": {},
   "source": [
    "Create a pull request."
   ]
  },
  {
   "cell_type": "markdown",
   "metadata": {},
   "source": [
    "Switch back to `master`. Pull modifications."
   ]
  },
  {
   "cell_type": "markdown",
   "metadata": {},
   "source": [
    "Messed up?\n",
    "- easy: start again\n",
    "    - save the repository: `mv modern_scientific_programming msp_backup`\n",
    "    - clone and the steps again `clone ...`\n",
    "- easy too but slightly more complicated:\n",
    "    - if you have not commited your wrong changes: `git stash`"
   ]
  }
 ],
 "metadata": {
  "kernelspec": {
   "display_name": "Python 3",
   "language": "python",
   "name": "python3"
  },
  "language_info": {
   "codemirror_mode": {
    "name": "ipython",
    "version": 3
   },
   "file_extension": ".py",
   "mimetype": "text/x-python",
   "name": "python",
   "nbconvert_exporter": "python",
   "pygments_lexer": "ipython3",
   "version": "3.7.2"
  }
 },
 "nbformat": 4,
 "nbformat_minor": 2
}
