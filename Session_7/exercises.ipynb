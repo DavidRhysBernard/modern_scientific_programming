{
 "cells": [
  {
   "cell_type": "markdown",
   "metadata": {},
   "source": [
    "# Botanics"
   ]
  },
  {
   "cell_type": "markdown",
   "metadata": {},
   "source": [
    "A classic dataset used for machine learning introduction is the [Iris](https://en.wikipedia.org/wiki/Iris_flower_data_set) dataset.\n",
    "\n",
    "Its goal is to \"quantify morphologic variation of Iris flowers of three related species (Iris setosa, Iris Virginica, and Iris Versicolor). Biologist Ronald Fisher usid it in 1936 as an example of linear discriminatn analysis. It is now used as a classic example of a classification problem.\n",
    "\n",
    "![](./blueflagiris_flower.gif)"
   ]
  },
  {
   "cell_type": "markdown",
   "metadata": {},
   "source": [
    "**[Q]:** Import the dataset from one of the multiple sources (altair, scikit, ...) as a pandas DataFrame.\n",
    "Rename columns to `sepal_length`, `sepal_width`, `petal_length`, `petal_width` and `species` (add the latter if needed)."
   ]
  },
  {
   "cell_type": "markdown",
   "metadata": {},
   "source": [
    "**[Q]:** Make a scatterpolot of the data (see [example](https://en.wikipedia.org/wiki/Iris_flower_data_set#/media/File:Iris_dataset_scatterplot.svg) )"
   ]
  },
  {
   "cell_type": "markdown",
   "metadata": {},
   "source": [
    "**[Q]:** Train a Support Vector Machine classifier using \n",
    "    the whole dataset."
   ]
  },
  {
   "cell_type": "markdown",
   "metadata": {},
   "source": [
    "**[Q]:** Visualize the predictions."
   ]
  },
  {
   "cell_type": "code",
   "execution_count": null,
   "metadata": {},
   "outputs": [],
   "source": []
  }
 ],
 "metadata": {
  "kernelspec": {
   "display_name": "Python 3",
   "language": "python",
   "name": "python3"
  },
  "language_info": {
   "codemirror_mode": {
    "name": "ipython",
    "version": 3
   },
   "file_extension": ".py",
   "mimetype": "text/x-python",
   "name": "python",
   "nbconvert_exporter": "python",
   "pygments_lexer": "ipython3",
   "version": "3.6.8"
  }
 },
 "nbformat": 4,
 "nbformat_minor": 2
}
